{
  "cells": [
    {
      "cell_type": "markdown",
      "metadata": {
        "id": "view-in-github",
        "colab_type": "text"
      },
      "source": [
        "<a href=\"https://colab.research.google.com/github/samgitnub/Python-Development/blob/main/Python_Automation_Script.ipynb\" target=\"_parent\"><img src=\"https://colab.research.google.com/assets/colab-badge.svg\" alt=\"Open In Colab\"/></a>"
      ]
    },
    {
      "cell_type": "markdown",
      "metadata": {
        "id": "IWpV_d2YGjcx"
      },
      "source": [
        "**1. Automation Script:**\n",
        "\n",
        " Description: Create a script to automate a repetitive task, such as data\n",
        "scraping or file organization. Improve efficiency and reduce manual\n",
        "effort.\n",
        "o Why: Automation scripts save time and reduce human error in repetitive\n",
        "tasks.\n",
        "\n",
        "Organize files in a folder based on their types (e.g., move images, documents, and videos into separate subfolders)\n",
        "\n"
      ]
    },
    {
      "source": [
        "import os\n",
        "import shutil # Removed the extra spaces before this line\n",
        "\n",
        "# Function to organize files by type\n",
        "def organize_files_by_type(folder_to_organize):\n",
        "    # File type categories and their extensions\n",
        "    file_types = {\n",
        "        'Images': ['.jpg', '.jpeg', '.png', '.gif', '.bmp', '.tiff'],\n",
        "        'Documents': ['.pdf', '.docx', '.doc', '.txt', '.xlsx', '.pptx'],\n",
        "        'Videos': ['.mp4', '.mkv', '.avi', '.mov', '.wmv'],\n",
        "        'Music': ['.mp3', '.wav', '.aac'],\n",
        "        'Archives': ['.zip', '.rar', '.7z', '.tar', '.gz']\n",
        "    }\n",
        "\n",
        "    # Ensure the folder exists\n",
        "    if not os.path.exists(folder_to_organize):  # Use folder_to_organize here\n",
        "        print(f\"Error: Folder '{folder_to_organize}' does not exist.\")\n",
        "        return\n",
        "\n",
        "    # Create subfolders for each category\n",
        "    for category in file_types.keys():\n",
        "        category_folder = os.path.join(folder_to_organize, category) # Use folder_to_organize here\n",
        "        os.makedirs(category_folder, exist_ok=True)\n",
        "\n",
        "    # Iterate over files in the folder\n",
        "    for file_name in os.listdir(folder_to_organize):  # Use folder_to_organize here\n",
        "        file_path = os.path.join(folder_to_organize, file_name)  # Use folder_to_organize here\n",
        "\n",
        "        # Skip if it's a folder\n",
        "        if os.path.isdir(file_path): # Check if the current item is a directory using its full path\n",
        "            continue\n",
        "\n",
        "        # Check the file extension and move the file to the appropriate folder\n",
        "        file_extension = os.path.splitext(file_name)[1].lower()\n",
        "        moved = False\n",
        "        for category, extensions in file_types.items():\n",
        "            if file_extension in extensions:\n",
        "                shutil.move(file_path, os.path.join(folder_to_organize, category, file_name)) # Use file_path for the source and folder_to_organize for the destination\n",
        "                moved = True\n",
        "                print(f\"Moved: {file_name} to {category}/\")\n",
        "                break\n",
        "\n",
        "        # If the file doesn't match any category, move it to \"Others\"\n",
        "        if not moved:\n",
        "            others_folder = os.path.join(folder_to_organize, 'Others') # Use folder_to_organize here\n",
        "            os.makedirs(others_folder, exist_ok=True)\n",
        "            shutil.move(file_path, os.path.join(others_folder, file_name))\n",
        "            print(f\"Moved: {file_name} to Others/\")\n",
        "\n",
        "    print(\"File organization complete!\")\n",
        "\n",
        "if __name__ == \"__main__\":\n",
        "    folder_to_organize = \"C:\\\\Users\\\\Shaik Sameena\\\\Documents\\\\flower_photos\"\n",
        "\n",
        "    # Create the folder if it doesn't exist\n",
        "    if not os.path.exists(folder_to_organize):\n",
        "        os.makedirs(folder_to_organize)\n",
        "        print(f\"Created folder: {folder_to_organize}\")\n",
        "\n",
        "    organize_files_by_type(folder_to_organize)"
      ],
      "cell_type": "code",
      "metadata": {
        "colab": {
          "base_uri": "https://localhost:8080/"
        },
        "id": "0MWu1mzk2i-p",
        "outputId": "27cac206-190d-4571-bc22-b109feced2ac"
      },
      "execution_count": null,
      "outputs": [
        {
          "output_type": "stream",
          "name": "stdout",
          "text": [
            "Created folder: C:\\Users\\Shaik Sameena\\Documents\\flower_photos\n",
            "File organization complete!\n"
          ]
        }
      ]
    }
  ],
  "metadata": {
    "colab": {
      "provenance": [],
      "authorship_tag": "ABX9TyPlfkCy/MjAg5EUHDV7ax7Y",
      "include_colab_link": true
    },
    "kernelspec": {
      "display_name": "Python 3",
      "name": "python3"
    },
    "language_info": {
      "name": "python"
    }
  },
  "nbformat": 4,
  "nbformat_minor": 0
}