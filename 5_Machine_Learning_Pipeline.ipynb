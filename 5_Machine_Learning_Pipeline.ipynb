{
  "nbformat": 4,
  "nbformat_minor": 0,
  "metadata": {
    "colab": {
      "provenance": [],
      "authorship_tag": "ABX9TyMaCrQe5Rk4ks3SOPXcfvaj",
      "include_colab_link": true
    },
    "kernelspec": {
      "name": "python3",
      "display_name": "Python 3"
    },
    "language_info": {
      "name": "python"
    }
  },
  "cells": [
    {
      "cell_type": "markdown",
      "metadata": {
        "id": "view-in-github",
        "colab_type": "text"
      },
      "source": [
        "<a href=\"https://colab.research.google.com/github/samgitnub/Python-Development/blob/main/5_Machine_Learning_Pipeline.ipynb\" target=\"_parent\"><img src=\"https://colab.research.google.com/assets/colab-badge.svg\" alt=\"Open In Colab\"/></a>"
      ]
    },
    {
      "cell_type": "code",
      "source": [
        "# Import necessary libraries\n",
        "import pandas as pd\n",
        "import numpy as np\n",
        "from sklearn.model_selection import train_test_split\n",
        "from sklearn.preprocessing import StandardScaler\n",
        "from sklearn.ensemble import RandomForestClassifier\n",
        "from sklearn.metrics import accuracy_score, classification_report\n",
        "import joblib\n",
        "\n",
        "# Step 1: Data Collection\n",
        "def load_data():\n",
        "    # Replace with your dataset source\n",
        "    url = \"https://raw.githubusercontent.com/jbrownlee/Datasets/master/iris.csv\"\n",
        "    data = pd.read_csv(url, header=None)\n",
        "    data.columns = ['sepal_length', 'sepal_width', 'petal_length', 'petal_width', 'species']\n",
        "    print(\"Data Loaded Successfully\")\n",
        "    return data\n",
        "\n",
        "# Step 2: Data Preprocessing\n",
        "def preprocess_data(data):\n",
        "    # Convert categorical target to numeric\n",
        "    data['species'] = data['species'].astype('category').cat.codes\n",
        "    X = data.drop('species', axis=1)\n",
        "    y = data['species']\n",
        "\n",
        "    # Split data into train and test sets\n",
        "    X_train, X_test, y_train, y_test = train_test_split(X, y, test_size=0.2, random_state=42)\n",
        "\n",
        "    # Scale features\n",
        "    scaler = StandardScaler()\n",
        "    X_train_scaled = scaler.fit_transform(X_train)\n",
        "    X_test_scaled = scaler.transform(X_test)\n",
        "\n",
        "    print(\"Data Preprocessing Completed\")\n",
        "    return X_train_scaled, X_test_scaled, y_train, y_test, scaler\n",
        "\n",
        "# Step 3: Model Training\n",
        "def train_model(X_train, y_train):\n",
        "    model = RandomForestClassifier(random_state=42)\n",
        "    model.fit(X_train, y_train)\n",
        "    print(\"Model Training Completed\")\n",
        "    return model\n",
        "\n",
        "# Step 4: Model Evaluation\n",
        "def evaluate_model(model, X_test, y_test):\n",
        "    y_pred = model.predict(X_test)\n",
        "    accuracy = accuracy_score(y_test, y_pred)\n",
        "    print(\"Model Evaluation Results:\")\n",
        "    print(\"Accuracy:\", accuracy)\n",
        "    print(\"Classification Report:\")\n",
        "    print(classification_report(y_test, y_pred))\n",
        "    return accuracy\n",
        "\n",
        "# Step 5: Automate Workflow\n",
        "def save_artifacts(model, scaler):\n",
        "    joblib.dump(model, \"model.pkl\")\n",
        "    joblib.dump(scaler, \"scaler.pkl\")\n",
        "    print(\"Model and Scaler Saved\")\n",
        "\n",
        "def load_artifacts():\n",
        "    model = joblib.load(\"model.pkl\")\n",
        "    scaler = joblib.load(\"scaler.pkl\")\n",
        "    print(\"Model and Scaler Loaded\")\n",
        "    return model, scaler\n",
        "\n",
        "# Main Pipeline\n",
        "if __name__ == \"__main__\":\n",
        "    data = load_data()\n",
        "    X_train, X_test, y_train, y_test, scaler = preprocess_data(data)\n",
        "    model = train_model(X_train, y_train)\n",
        "    evaluate_model(model, X_test, y_test)\n",
        "    save_artifacts(model, scaler)\n"
      ],
      "metadata": {
        "colab": {
          "base_uri": "https://localhost:8080/"
        },
        "id": "SAaaWDcs_MWe",
        "outputId": "c0f57edc-6945-4050-cce8-33fbf290667f"
      },
      "execution_count": 5,
      "outputs": [
        {
          "output_type": "stream",
          "name": "stdout",
          "text": [
            "Data Loaded Successfully\n",
            "Data Preprocessing Completed\n",
            "Model Training Completed\n",
            "Model Evaluation Results:\n",
            "Accuracy: 1.0\n",
            "Classification Report:\n",
            "              precision    recall  f1-score   support\n",
            "\n",
            "           0       1.00      1.00      1.00        10\n",
            "           1       1.00      1.00      1.00         9\n",
            "           2       1.00      1.00      1.00        11\n",
            "\n",
            "    accuracy                           1.00        30\n",
            "   macro avg       1.00      1.00      1.00        30\n",
            "weighted avg       1.00      1.00      1.00        30\n",
            "\n",
            "Model and Scaler Saved\n"
          ]
        }
      ]
    }
  ]
}